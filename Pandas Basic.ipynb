{
 "cells": [
  {
   "cell_type": "markdown",
   "metadata": {},
   "source": [
    "# STOCK DATASET"
   ]
  },
  {
   "cell_type": "markdown",
   "metadata": {},
   "source": [
    "### Importing Libraries"
   ]
  },
  {
   "cell_type": "code",
   "execution_count": 1,
   "metadata": {
    "id": "ZMb4phUVE4DI"
   },
   "outputs": [],
   "source": [
    "import numpy as np"
   ]
  },
  {
   "cell_type": "code",
   "execution_count": 2,
   "metadata": {
    "id": "AKyJWSU2Fwez"
   },
   "outputs": [],
   "source": [
    "import pandas as pd"
   ]
  },
  {
   "cell_type": "markdown",
   "metadata": {},
   "source": [
    "### Creating a dictionary and storing the datas"
   ]
  },
  {
   "cell_type": "code",
   "execution_count": 3,
   "metadata": {},
   "outputs": [],
   "source": [
    "data={\"Month\":[\"Jan\", \"Feb\", \"Mar\", \"Apr\", \"May\" ,\"Jun\" ,\"Jul\" ,\"Aug\" ,\"Sep\" ,\"Oct\" ,\"Nov\" ,\"Dec\"],\n",
    "      \"IBM\":[156.08, 160.01, 159.81 ,165.22, 172.25 ,167.15 ,164.75, 152.77 ,145.36, 146.11, 137.21, 137.96],\n",
    "      \"MSFT\":[45.51, 43.08, 42.13 ,43.47, 47.53 ,45.96, 45.61, 45.51, 43.56, 48.70, 53.88, 55.40],\n",
    "      \"GOOGLE\":[512.42, 537.99, 559.72, 540.50, 535.24, 532.92, 590.09, 636.84, 617.93, 663.59, 735.39, 755.35],\n",
    "      \"APPLE\":[110.64, 125.43, 125.97, 127.29, 128.76, 127.81, 125.34, 113.39, 112.80, 113.36, 118.16, 111.73]}\n"
   ]
  },
  {
   "cell_type": "markdown",
   "metadata": {},
   "source": [
    "### Creating a Data frame "
   ]
  },
  {
   "cell_type": "code",
   "execution_count": 4,
   "metadata": {
    "colab": {
     "base_uri": "https://localhost:8080/",
     "height": 432
    },
    "id": "NBxrCNtDCMoN",
    "outputId": "2b9157be-dc37-455f-cddc-5c4f1a394a6b"
   },
   "outputs": [
    {
     "data": {
      "text/html": [
       "<div>\n",
       "<style scoped>\n",
       "    .dataframe tbody tr th:only-of-type {\n",
       "        vertical-align: middle;\n",
       "    }\n",
       "\n",
       "    .dataframe tbody tr th {\n",
       "        vertical-align: top;\n",
       "    }\n",
       "\n",
       "    .dataframe thead th {\n",
       "        text-align: right;\n",
       "    }\n",
       "</style>\n",
       "<table border=\"1\" class=\"dataframe\">\n",
       "  <thead>\n",
       "    <tr style=\"text-align: right;\">\n",
       "      <th></th>\n",
       "      <th>IBM</th>\n",
       "      <th>MSFT</th>\n",
       "      <th>GOOGLE</th>\n",
       "      <th>APPLE</th>\n",
       "    </tr>\n",
       "    <tr>\n",
       "      <th>Month</th>\n",
       "      <th></th>\n",
       "      <th></th>\n",
       "      <th></th>\n",
       "      <th></th>\n",
       "    </tr>\n",
       "  </thead>\n",
       "  <tbody>\n",
       "    <tr>\n",
       "      <th>Jan</th>\n",
       "      <td>156.08</td>\n",
       "      <td>45.51</td>\n",
       "      <td>512.42</td>\n",
       "      <td>110.64</td>\n",
       "    </tr>\n",
       "    <tr>\n",
       "      <th>Feb</th>\n",
       "      <td>160.01</td>\n",
       "      <td>43.08</td>\n",
       "      <td>537.99</td>\n",
       "      <td>125.43</td>\n",
       "    </tr>\n",
       "    <tr>\n",
       "      <th>Mar</th>\n",
       "      <td>159.81</td>\n",
       "      <td>42.13</td>\n",
       "      <td>559.72</td>\n",
       "      <td>125.97</td>\n",
       "    </tr>\n",
       "    <tr>\n",
       "      <th>Apr</th>\n",
       "      <td>165.22</td>\n",
       "      <td>43.47</td>\n",
       "      <td>540.50</td>\n",
       "      <td>127.29</td>\n",
       "    </tr>\n",
       "    <tr>\n",
       "      <th>May</th>\n",
       "      <td>172.25</td>\n",
       "      <td>47.53</td>\n",
       "      <td>535.24</td>\n",
       "      <td>128.76</td>\n",
       "    </tr>\n",
       "    <tr>\n",
       "      <th>Jun</th>\n",
       "      <td>167.15</td>\n",
       "      <td>45.96</td>\n",
       "      <td>532.92</td>\n",
       "      <td>127.81</td>\n",
       "    </tr>\n",
       "    <tr>\n",
       "      <th>Jul</th>\n",
       "      <td>164.75</td>\n",
       "      <td>45.61</td>\n",
       "      <td>590.09</td>\n",
       "      <td>125.34</td>\n",
       "    </tr>\n",
       "    <tr>\n",
       "      <th>Aug</th>\n",
       "      <td>152.77</td>\n",
       "      <td>45.51</td>\n",
       "      <td>636.84</td>\n",
       "      <td>113.39</td>\n",
       "    </tr>\n",
       "    <tr>\n",
       "      <th>Sep</th>\n",
       "      <td>145.36</td>\n",
       "      <td>43.56</td>\n",
       "      <td>617.93</td>\n",
       "      <td>112.80</td>\n",
       "    </tr>\n",
       "    <tr>\n",
       "      <th>Oct</th>\n",
       "      <td>146.11</td>\n",
       "      <td>48.70</td>\n",
       "      <td>663.59</td>\n",
       "      <td>113.36</td>\n",
       "    </tr>\n",
       "    <tr>\n",
       "      <th>Nov</th>\n",
       "      <td>137.21</td>\n",
       "      <td>53.88</td>\n",
       "      <td>735.39</td>\n",
       "      <td>118.16</td>\n",
       "    </tr>\n",
       "    <tr>\n",
       "      <th>Dec</th>\n",
       "      <td>137.96</td>\n",
       "      <td>55.40</td>\n",
       "      <td>755.35</td>\n",
       "      <td>111.73</td>\n",
       "    </tr>\n",
       "  </tbody>\n",
       "</table>\n",
       "</div>"
      ],
      "text/plain": [
       "          IBM   MSFT  GOOGLE   APPLE\n",
       "Month                               \n",
       "Jan    156.08  45.51  512.42  110.64\n",
       "Feb    160.01  43.08  537.99  125.43\n",
       "Mar    159.81  42.13  559.72  125.97\n",
       "Apr    165.22  43.47  540.50  127.29\n",
       "May    172.25  47.53  535.24  128.76\n",
       "Jun    167.15  45.96  532.92  127.81\n",
       "Jul    164.75  45.61  590.09  125.34\n",
       "Aug    152.77  45.51  636.84  113.39\n",
       "Sep    145.36  43.56  617.93  112.80\n",
       "Oct    146.11  48.70  663.59  113.36\n",
       "Nov    137.21  53.88  735.39  118.16\n",
       "Dec    137.96  55.40  755.35  111.73"
      ]
     },
     "execution_count": 4,
     "metadata": {},
     "output_type": "execute_result"
    }
   ],
   "source": [
    "df1=pd.DataFrame(data)\n",
    "df1=df1.set_index(\"Month\")\n",
    "df1"
   ]
  },
  {
   "cell_type": "code",
   "execution_count": 5,
   "metadata": {
    "colab": {
     "base_uri": "https://localhost:8080/",
     "height": 432
    },
    "id": "RB2g5RxNET3V",
    "outputId": "1217393c-6877-438f-e5f8-b192fa879189"
   },
   "outputs": [
    {
     "data": {
      "text/html": [
       "<div>\n",
       "<style scoped>\n",
       "    .dataframe tbody tr th:only-of-type {\n",
       "        vertical-align: middle;\n",
       "    }\n",
       "\n",
       "    .dataframe tbody tr th {\n",
       "        vertical-align: top;\n",
       "    }\n",
       "\n",
       "    .dataframe thead th {\n",
       "        text-align: right;\n",
       "    }\n",
       "</style>\n",
       "<table border=\"1\" class=\"dataframe\">\n",
       "  <thead>\n",
       "    <tr style=\"text-align: right;\">\n",
       "      <th></th>\n",
       "      <th>IBM</th>\n",
       "      <th>APPLE</th>\n",
       "    </tr>\n",
       "    <tr>\n",
       "      <th>Month</th>\n",
       "      <th></th>\n",
       "      <th></th>\n",
       "    </tr>\n",
       "  </thead>\n",
       "  <tbody>\n",
       "    <tr>\n",
       "      <th>Jan</th>\n",
       "      <td>156.08</td>\n",
       "      <td>110.64</td>\n",
       "    </tr>\n",
       "    <tr>\n",
       "      <th>Feb</th>\n",
       "      <td>160.01</td>\n",
       "      <td>125.43</td>\n",
       "    </tr>\n",
       "    <tr>\n",
       "      <th>Mar</th>\n",
       "      <td>159.81</td>\n",
       "      <td>125.97</td>\n",
       "    </tr>\n",
       "    <tr>\n",
       "      <th>Apr</th>\n",
       "      <td>165.22</td>\n",
       "      <td>127.29</td>\n",
       "    </tr>\n",
       "    <tr>\n",
       "      <th>May</th>\n",
       "      <td>172.25</td>\n",
       "      <td>128.76</td>\n",
       "    </tr>\n",
       "    <tr>\n",
       "      <th>Jun</th>\n",
       "      <td>167.15</td>\n",
       "      <td>127.81</td>\n",
       "    </tr>\n",
       "    <tr>\n",
       "      <th>Jul</th>\n",
       "      <td>164.75</td>\n",
       "      <td>125.34</td>\n",
       "    </tr>\n",
       "    <tr>\n",
       "      <th>Aug</th>\n",
       "      <td>152.77</td>\n",
       "      <td>113.39</td>\n",
       "    </tr>\n",
       "    <tr>\n",
       "      <th>Sep</th>\n",
       "      <td>145.36</td>\n",
       "      <td>112.80</td>\n",
       "    </tr>\n",
       "    <tr>\n",
       "      <th>Oct</th>\n",
       "      <td>146.11</td>\n",
       "      <td>113.36</td>\n",
       "    </tr>\n",
       "    <tr>\n",
       "      <th>Nov</th>\n",
       "      <td>137.21</td>\n",
       "      <td>118.16</td>\n",
       "    </tr>\n",
       "    <tr>\n",
       "      <th>Dec</th>\n",
       "      <td>137.96</td>\n",
       "      <td>111.73</td>\n",
       "    </tr>\n",
       "  </tbody>\n",
       "</table>\n",
       "</div>"
      ],
      "text/plain": [
       "          IBM   APPLE\n",
       "Month                \n",
       "Jan    156.08  110.64\n",
       "Feb    160.01  125.43\n",
       "Mar    159.81  125.97\n",
       "Apr    165.22  127.29\n",
       "May    172.25  128.76\n",
       "Jun    167.15  127.81\n",
       "Jul    164.75  125.34\n",
       "Aug    152.77  113.39\n",
       "Sep    145.36  112.80\n",
       "Oct    146.11  113.36\n",
       "Nov    137.21  118.16\n",
       "Dec    137.96  111.73"
      ]
     },
     "execution_count": 5,
     "metadata": {},
     "output_type": "execute_result"
    }
   ],
   "source": [
    "x=df1[[\"IBM\",\"APPLE\"]]\n",
    "x"
   ]
  },
  {
   "cell_type": "markdown",
   "metadata": {},
   "source": [
    "### Displaying Meta Datas of the Dataset"
   ]
  },
  {
   "cell_type": "code",
   "execution_count": 6,
   "metadata": {},
   "outputs": [
    {
     "data": {
      "text/html": [
       "<div>\n",
       "<style scoped>\n",
       "    .dataframe tbody tr th:only-of-type {\n",
       "        vertical-align: middle;\n",
       "    }\n",
       "\n",
       "    .dataframe tbody tr th {\n",
       "        vertical-align: top;\n",
       "    }\n",
       "\n",
       "    .dataframe thead th {\n",
       "        text-align: right;\n",
       "    }\n",
       "</style>\n",
       "<table border=\"1\" class=\"dataframe\">\n",
       "  <thead>\n",
       "    <tr style=\"text-align: right;\">\n",
       "      <th></th>\n",
       "      <th>IBM</th>\n",
       "      <th>MSFT</th>\n",
       "      <th>GOOGLE</th>\n",
       "      <th>APPLE</th>\n",
       "    </tr>\n",
       "  </thead>\n",
       "  <tbody>\n",
       "    <tr>\n",
       "      <th>count</th>\n",
       "      <td>12.000000</td>\n",
       "      <td>12.000000</td>\n",
       "      <td>12.000000</td>\n",
       "      <td>12.000000</td>\n",
       "    </tr>\n",
       "    <tr>\n",
       "      <th>mean</th>\n",
       "      <td>155.390000</td>\n",
       "      <td>46.695000</td>\n",
       "      <td>601.498333</td>\n",
       "      <td>120.056667</td>\n",
       "    </tr>\n",
       "    <tr>\n",
       "      <th>std</th>\n",
       "      <td>11.583898</td>\n",
       "      <td>4.164577</td>\n",
       "      <td>81.814374</td>\n",
       "      <td>7.283172</td>\n",
       "    </tr>\n",
       "    <tr>\n",
       "      <th>min</th>\n",
       "      <td>137.210000</td>\n",
       "      <td>42.130000</td>\n",
       "      <td>512.420000</td>\n",
       "      <td>110.640000</td>\n",
       "    </tr>\n",
       "    <tr>\n",
       "      <th>25%</th>\n",
       "      <td>145.922500</td>\n",
       "      <td>43.537500</td>\n",
       "      <td>537.302500</td>\n",
       "      <td>113.220000</td>\n",
       "    </tr>\n",
       "    <tr>\n",
       "      <th>50%</th>\n",
       "      <td>157.945000</td>\n",
       "      <td>45.560000</td>\n",
       "      <td>574.905000</td>\n",
       "      <td>121.750000</td>\n",
       "    </tr>\n",
       "    <tr>\n",
       "      <th>75%</th>\n",
       "      <td>164.867500</td>\n",
       "      <td>47.822500</td>\n",
       "      <td>643.527500</td>\n",
       "      <td>126.300000</td>\n",
       "    </tr>\n",
       "    <tr>\n",
       "      <th>max</th>\n",
       "      <td>172.250000</td>\n",
       "      <td>55.400000</td>\n",
       "      <td>755.350000</td>\n",
       "      <td>128.760000</td>\n",
       "    </tr>\n",
       "  </tbody>\n",
       "</table>\n",
       "</div>"
      ],
      "text/plain": [
       "              IBM       MSFT      GOOGLE       APPLE\n",
       "count   12.000000  12.000000   12.000000   12.000000\n",
       "mean   155.390000  46.695000  601.498333  120.056667\n",
       "std     11.583898   4.164577   81.814374    7.283172\n",
       "min    137.210000  42.130000  512.420000  110.640000\n",
       "25%    145.922500  43.537500  537.302500  113.220000\n",
       "50%    157.945000  45.560000  574.905000  121.750000\n",
       "75%    164.867500  47.822500  643.527500  126.300000\n",
       "max    172.250000  55.400000  755.350000  128.760000"
      ]
     },
     "execution_count": 6,
     "metadata": {},
     "output_type": "execute_result"
    }
   ],
   "source": [
    "df1.describe()"
   ]
  },
  {
   "cell_type": "code",
   "execution_count": 7,
   "metadata": {},
   "outputs": [
    {
     "name": "stdout",
     "output_type": "stream",
     "text": [
      "<class 'pandas.core.frame.DataFrame'>\n",
      "Index: 12 entries, Jan to Dec\n",
      "Data columns (total 4 columns):\n",
      " #   Column  Non-Null Count  Dtype  \n",
      "---  ------  --------------  -----  \n",
      " 0   IBM     12 non-null     float64\n",
      " 1   MSFT    12 non-null     float64\n",
      " 2   GOOGLE  12 non-null     float64\n",
      " 3   APPLE   12 non-null     float64\n",
      "dtypes: float64(4)\n",
      "memory usage: 480.0+ bytes\n"
     ]
    }
   ],
   "source": [
    "df1.info()"
   ]
  },
  {
   "cell_type": "markdown",
   "metadata": {},
   "source": [
    "### Displaying Columns "
   ]
  },
  {
   "cell_type": "code",
   "execution_count": 8,
   "metadata": {},
   "outputs": [
    {
     "data": {
      "text/plain": [
       "Index(['IBM', 'MSFT', 'GOOGLE', 'APPLE'], dtype='object')"
      ]
     },
     "execution_count": 8,
     "metadata": {},
     "output_type": "execute_result"
    }
   ],
   "source": [
    "df1.columns"
   ]
  },
  {
   "cell_type": "markdown",
   "metadata": {},
   "source": [
    "### Displying Indexes"
   ]
  },
  {
   "cell_type": "code",
   "execution_count": 9,
   "metadata": {},
   "outputs": [
    {
     "data": {
      "text/plain": [
       "Index(['Jan', 'Feb', 'Mar', 'Apr', 'May', 'Jun', 'Jul', 'Aug', 'Sep', 'Oct',\n",
       "       'Nov', 'Dec'],\n",
       "      dtype='object', name='Month')"
      ]
     },
     "execution_count": 9,
     "metadata": {},
     "output_type": "execute_result"
    }
   ],
   "source": [
    "df1.index"
   ]
  },
  {
   "cell_type": "markdown",
   "metadata": {},
   "source": [
    "### Finding sums of eax\\ch columns"
   ]
  },
  {
   "cell_type": "code",
   "execution_count": 10,
   "metadata": {},
   "outputs": [
    {
     "name": "stdout",
     "output_type": "stream",
     "text": [
      "Sum of total stocks of IBM :  1864.6800000000003\n",
      "Sum of total stocks of MSFT :  560.34\n",
      "Sum of total stocks of GOOGLE :  7217.980000000001\n",
      "Sum of total stocks of APPLE :  1440.68\n"
     ]
    }
   ],
   "source": [
    "s1=df1.IBM.sum()\n",
    "s2=df1.MSFT.sum()\n",
    "s3=df1.GOOGLE.sum()\n",
    "s4=df1.APPLE.sum()\n",
    "print(\"Sum of total stocks of IBM : \",s1)\n",
    "print(\"Sum of total stocks of MSFT : \",s2)\n",
    "print(\"Sum of total stocks of GOOGLE : \",s3)\n",
    "print(\"Sum of total stocks of APPLE : \",s4)"
   ]
  },
  {
   "cell_type": "markdown",
   "metadata": {},
   "source": [
    "### Plotting Datas"
   ]
  },
  {
   "cell_type": "code",
   "execution_count": 11,
   "metadata": {
    "colab": {
     "base_uri": "https://localhost:8080/",
     "height": 296
    },
    "id": "JteCBA_PEgNL",
    "outputId": "119cf5ca-e102-4b66-9af7-5559ad9cc5e2"
   },
   "outputs": [
    {
     "data": {
      "text/plain": [
       "<matplotlib.axes._subplots.AxesSubplot at 0x2deec431700>"
      ]
     },
     "execution_count": 11,
     "metadata": {},
     "output_type": "execute_result"
    },
    {
     "data": {
      "image/png": "[encoded data removed]",
      "text/plain": [
       "<Figure size 432x288 with 1 Axes>"
      ]
     },
     "metadata": {
      "needs_background": "light"
     },
     "output_type": "display_data"
    }
   ],
   "source": [
    "x.plot(kind=\"line\")"
   ]
  },
  {
   "cell_type": "code",
   "execution_count": 12,
   "metadata": {},
   "outputs": [
    {
     "data": {
      "text/plain": [
       "<matplotlib.axes._subplots.AxesSubplot at 0x2deec565850>"
      ]
     },
     "execution_count": 12,
     "metadata": {},
     "output_type": "execute_result"
    },
    {
     "data": {
      "image/png": "[encoded data removed]",
      "text/plain": [
       "<Figure size 432x288 with 1 Axes>"
      ]
     },
     "metadata": {
      "needs_background": "light"
     },
     "output_type": "display_data"
    }
   ],
   "source": [
    "df1.plot(kind=\"line\")"
   ]
  },
  {
   "cell_type": "code",
   "execution_count": 13,
   "metadata": {
    "colab": {
     "base_uri": "https://localhost:8080/",
     "height": 307
    },
    "id": "kF1UtpfYE068",
    "outputId": "2a80628c-0a56-4168-d308-c9aa4cd8805e"
   },
   "outputs": [
    {
     "data": {
      "text/plain": [
       "<matplotlib.axes._subplots.AxesSubplot at 0x2deec5d3970>"
      ]
     },
     "execution_count": 13,
     "metadata": {},
     "output_type": "execute_result"
    },
    {
     "data": {
      "image/png": "[encoded data removed]",
      "text/plain": [
       "<Figure size 432x288 with 1 Axes>"
      ]
     },
     "metadata": {
      "needs_background": "light"
     },
     "output_type": "display_data"
    }
   ],
   "source": [
    "x.plot(kind=\"bar\")"
   ]
  },
  {
   "cell_type": "code",
   "execution_count": 14,
   "metadata": {
    "colab": {
     "base_uri": "https://localhost:8080/",
     "height": 282
    },
    "id": "2rfXj5foE6Z2",
    "outputId": "6147324f-508f-4ccd-c57c-6fc89f2a2a40"
   },
   "outputs": [
    {
     "data": {
      "text/plain": [
       "<matplotlib.axes._subplots.AxesSubplot at 0x2deec67a9a0>"
      ]
     },
     "execution_count": 14,
     "metadata": {},
     "output_type": "execute_result"
    },
    {
     "data": {
      "image/png": "[encoded data removed]",
      "text/plain": [
       "<Figure size 432x288 with 1 Axes>"
      ]
     },
     "metadata": {
      "needs_background": "light"
     },
     "output_type": "display_data"
    }
   ],
   "source": [
    "x.plot(kind=\"hist\")"
   ]
  },
  {
   "cell_type": "code",
   "execution_count": null,
   "metadata": {},
   "outputs": [],
   "source": []
  }
 ],
 "metadata": {
  "colab": {
   "name": "Assignment 5.ipynb",
   "provenance": []
  },
  "kernelspec": {
   "display_name": "Python 3",
   "language": "python",
   "name": "python3"
  },
  "language_info": {
   "codemirror_mode": {
    "name": "ipython",
    "version": 3
   },
   "file_extension": ".py",
   "mimetype": "text/x-python",
   "name": "python",
   "nbconvert_exporter": "python",
   "pygments_lexer": "ipython3",
   "version": "3.8.3"
  }
 },
 "nbformat": 4,
 "nbformat_minor": 1
}
